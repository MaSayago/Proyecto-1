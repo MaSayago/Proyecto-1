{
 "cells": [
  {
   "cell_type": "code",
   "execution_count": 26,
   "metadata": {},
   "outputs": [],
   "source": [
    "import numpy as np\n",
    "import pandas as pd\n",
    "from fastapi import FastAPI\n",
    "\n"
   ]
  },
  {
   "cell_type": "code",
   "execution_count": 29,
   "metadata": {},
   "outputs": [
    {
     "ename": "SyntaxError",
     "evalue": "invalid syntax (3807844594.py, line 1)",
     "output_type": "error",
     "traceback": [
      "\u001b[1;36m  Cell \u001b[1;32mIn[29], line 1\u001b[1;36m\u001b[0m\n\u001b[1;33m    uvicorn main:app --reload\u001b[0m\n\u001b[1;37m            ^\u001b[0m\n\u001b[1;31mSyntaxError\u001b[0m\u001b[1;31m:\u001b[0m invalid syntax\n"
     ]
    }
   ],
   "source": []
  },
  {
   "cell_type": "code",
   "execution_count": 27,
   "metadata": {},
   "outputs": [],
   "source": [
    "df = pd.read_csv(\"output.csv\")\n"
   ]
  },
  {
   "cell_type": "code",
   "execution_count": 28,
   "metadata": {},
   "outputs": [],
   "source": [
    "from fastapi import FastAPI\n",
    "\n",
    "app = FastAPI()\n"
   ]
  },
  {
   "cell_type": "code",
   "execution_count": null,
   "metadata": {},
   "outputs": [],
   "source": [
    "@app.get('/peliculas_mes/{mes}')\n",
    "def peliculas_mes(mes:str):\n",
    "    '''Se ingresa el mes y la funcion retorna la cantidad de peliculas que se estrenaron ese mes historicamente'''\n",
    "    \n",
    "    \n",
    "    \n",
    "    return {'mes':mes, 'cantidad':respuesta}"
   ]
  },
  {
   "cell_type": "code",
   "execution_count": null,
   "metadata": {},
   "outputs": [],
   "source": [
    "@app.get('/peliculas_mes/{mes}')\n",
    "def peliculas_mes(mes: str):\n",
    "    '''Se ingresa el mes y la funcion retorna la cantidad de peliculas que se estrenaron ese mes historicamente'''\n",
    "\n",
    "    return {'mes': mes, 'cantidad': respuesta}\n",
    "\n",
    "\n",
    "@app.get('/peliculas_dis/{dis}')\n",
    "def peliculas_dia(dia: str):\n",
    "    '''Se ingresa el dia y la funcion retorna la cantidad de peliculas que se estrebaron ese dia historicamente'''\n",
    "    return {'dia': dia, 'cantidad': respuesta}\n",
    "\n",
    "\n",
    "@app.get('/franquicia/{franquicia}')\n",
    "def franquicia(franquicia: str):\n",
    "    '''Se ingresa la franquicia, retornando la cantidad de peliculas, ganancia total y promedio'''\n",
    "    return {'franquicia': franquicia, 'cantidad': respuesta, 'ganancia_total': respuesta, 'ganancia_promedio': respuesta}\n",
    "\n",
    "\n",
    "@app.get('/peliculas_pais/{pais}')\n",
    "def peliculas_pais(pais: str):\n",
    "    '''Ingresas el pais, retornando la cantidad de peliculas producidas en el mismo'''\n",
    "    return {'pais': pais, 'cantidad': respuesta}\n",
    "\n",
    "\n",
    "@app.get('/productoras/{productora}')\n",
    "def productoras(productora: str):\n",
    "    '''Ingresas la productora, retornando la ganancia toal y la cantidad de peliculas que produjeron'''\n",
    "    return {'productora': productora, 'ganancia_total': respuesta, 'cantidad': respuesta}\n",
    "\n",
    "\n",
    "@app.get('/retorno/{pelicula}')\n",
    "def retorno(pelicula: str):\n",
    "    '''Ingresas la pelicula, retornando la inversion, la ganancia, el retorno y el año en el que se lanzo'''\n",
    "    return {'pelicula': pelicula, 'inversion': respuesta, 'ganacia': respuesta, 'retorno': respuesta, 'anio': respuesta}\n",
    "\n",
    "# ML\n",
    "\n",
    "\n",
    "@app.get('/recomendacion/{titulo}')\n",
    "def recomendacion(titulo: str):\n",
    "    '''Ingresas un nombre de pelicula y te recomienda las similares en una lista'''\n",
    "    return {'lista recomendada': respuesta}\n"
   ]
  }
 ],
 "metadata": {
  "kernelspec": {
   "display_name": "Python 3",
   "language": "python",
   "name": "python3"
  },
  "language_info": {
   "codemirror_mode": {
    "name": "ipython",
    "version": 3
   },
   "file_extension": ".py",
   "mimetype": "text/x-python",
   "name": "python",
   "nbconvert_exporter": "python",
   "pygments_lexer": "ipython3",
   "version": "3.11.1"
  },
  "orig_nbformat": 4
 },
 "nbformat": 4,
 "nbformat_minor": 2
}
