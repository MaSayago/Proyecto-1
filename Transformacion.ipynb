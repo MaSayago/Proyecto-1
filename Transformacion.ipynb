{
 "cells": [
  {
   "cell_type": "code",
   "execution_count": null,
   "metadata": {},
   "outputs": [],
   "source": [
    "import ast\n",
    "import pandas as pd\n",
    "from typing import Union\n",
    "from fastapi import FastAPI\n",
    "from datetime import datetime\n",
    "import json\n",
    "\n",
    "### Importar el archivo ##############################################\n",
    "df = pd.read_csv(\"movies_dataset.csv\")\n"
   ]
  },
  {
   "cell_type": "code",
   "execution_count": null,
   "metadata": {},
   "outputs": [],
   "source": [
    "####################### DESANIDADO #####################################\n",
    "\n",
    "### Desanidado de \"belong_to_collection\"####################################\n",
    "\n",
    "# 'belongs_to_collection' a una lista de diccionarios\n",
    "df['belongs_to_collection'] = df['belongs_to_collection'].apply(\n",
    "    lambda x: ast.literal_eval(x) if isinstance(x, str) else None)\n",
    "\n",
    "\n",
    "df['collection_id'] = df['belongs_to_collection'].apply(\n",
    "    lambda x: x['id'] if isinstance(x, dict) else None)\n",
    "df['collection_name'] = df['belongs_to_collection'].apply(\n",
    "    lambda x: x['name'] if isinstance(x, dict) else None)\n",
    "df['poster_path'] = df['belongs_to_collection'].apply(\n",
    "    lambda x: x['poster_path'] if isinstance(x, dict) else None)\n",
    "df['backdrop_path'] = df['belongs_to_collection'].apply(\n",
    "    lambda x: x['backdrop_path'] if isinstance(x, dict) else None)\n"
   ]
  },
  {
   "cell_type": "code",
   "execution_count": null,
   "metadata": {},
   "outputs": [],
   "source": [
    "\n",
    "### Desanidado \"production_countries\" ###################################\n",
    "\n",
    "# 'production_companies' a una lista de diccionarios\n",
    "df['production_companies'] = df['production_companies'].apply(\n",
    "    lambda x: ast.literal_eval(x) if isinstance(x, str) else None)\n",
    "\n",
    "\n",
    "df['company_names'] = df['production_companies'].apply(\n",
    "    lambda x: [company['name'] for company in x] if isinstance(x, list) else [])\n",
    "df['company_ids'] = df['production_companies'].apply(\n",
    "    lambda x: [company['id'] for company in x] if isinstance(x, list) else [])\n"
   ]
  },
  {
   "cell_type": "code",
   "execution_count": null,
   "metadata": {},
   "outputs": [],
   "source": [
    "### Desanidado \"genres\" #################################\n",
    "\n",
    "df['genre_names'] = df['genres'].apply(\n",
    "    lambda x: [genre['name'] for genre in eval(x)])\n"
   ]
  },
  {
   "cell_type": "code",
   "execution_count": null,
   "metadata": {},
   "outputs": [],
   "source": [
    "### Desanidado \"production_countries\" ####################################\n",
    "\n",
    "#'production_countries' a una lista de diccionarios\n",
    "df['production_countries'] = df['production_countries'].apply(\n",
    "    lambda x: ast.literal_eval(x) if isinstance(x, str) else [])\n",
    "\n",
    "# Desanidado\n",
    "df['production_countries'] = df['production_countries'].apply(\n",
    "    lambda x: [country['name'] for country in x] if isinstance(x, list) else [])\n"
   ]
  },
  {
   "cell_type": "code",
   "execution_count": null,
   "metadata": {},
   "outputs": [],
   "source": [
    "### Transformacion columnas revenue y budget ##############################\n",
    "\n",
    "df['budget'] = pd.to_numeric(\n",
    "    df['budget'], errors='coerce').fillna(0).astype(int)\n",
    "df['revenue'] = pd.to_numeric(\n",
    "    df['revenue'], errors='coerce').fillna(0).astype(int)\n",
    "\n",
    "\n",
    "# Convercion de las columnas \"budget\"  y \"revenue\" a un tipo de datos numérico\n",
    "\n",
    "df['budget'] = df['budget'].astype(int)\n",
    "df['revenue'] = df['revenue'].astype(int)\n",
    "\n",
    "\n",
    "\n"
   ]
  },
  {
   "cell_type": "code",
   "execution_count": null,
   "metadata": {},
   "outputs": [],
   "source": [
    "### Transoformacion de la columna release_date\"##############################################\n",
    "\n",
    "# \"release_date\" al formato de fecha\n",
    "df['release_date'] = pd.to_datetime(df['release_date'], errors='coerce')\n",
    "\n",
    "# Formato AAAA-mm-dd \n",
    "df['release_date'] = df['release_date'].dt.strftime('%Y-%m-%d')  # 2\n",
    "\n",
    "# Columna \"release_year\" \n",
    "df['release_year'] = df['release_date'].str[:4]  # 2\n",
    "\n",
    "# Eliminar valores nulos en \"release_date\"\n",
    "df.dropna(subset=['release_date'], inplace=True)\n",
    "\n",
    "\n"
   ]
  },
  {
   "cell_type": "code",
   "execution_count": null,
   "metadata": {},
   "outputs": [],
   "source": [
    "### Columna \"return\"##########################################\n",
    "\n",
    "# Calculo del retorno de inversión solo cuando revenue y budget son diferentes de 0\n",
    "\n",
    "df['return'] = df.apply(lambda row: row['revenue'] /\n",
    "                        row['budget'] if row['budget'] != 0 else 0, axis=1)\n"
   ]
  },
  {
   "cell_type": "code",
   "execution_count": null,
   "metadata": {},
   "outputs": [],
   "source": [
    "### Eliminación de columnas no utilizadas y/o desanidadas ##############################\n",
    "\n",
    "df = df.drop(columns=[\"belongs_to_collection\", \"genres\",\"video\", \"imdb_id\", \"adult\",\n",
    "             \"original_title\", \"vote_count\", \"poster_path\", \"homepage\", 'id', 'overview', 'production_companies',\n",
    "                      'spoken_languages', 'tagline', 'collection_id', 'poster_path', 'backdrop_path'])\n"
   ]
  },
  {
   "cell_type": "code",
   "execution_count": null,
   "metadata": {},
   "outputs": [],
   "source": [
    "#df.to_csv('dataset_Transformado.csv', sep=';', index=False)\n"
   ]
  },
  {
   "cell_type": "code",
   "execution_count": 69,
   "metadata": {},
   "outputs": [
    {
     "name": "stdout",
     "output_type": "stream",
     "text": [
      "<class 'pandas.core.frame.DataFrame'>\n",
      "Index: 45376 entries, 0 to 45465\n",
      "Data columns (total 16 columns):\n",
      " #   Column                Non-Null Count  Dtype  \n",
      "---  ------                --------------  -----  \n",
      " 0   budget                45376 non-null  int32  \n",
      " 1   original_language     45365 non-null  object \n",
      " 2   popularity            45376 non-null  object \n",
      " 3   production_countries  45376 non-null  object \n",
      " 4   release_date          45376 non-null  object \n",
      " 5   revenue               45376 non-null  int32  \n",
      " 6   runtime               45130 non-null  float64\n",
      " 7   status                45296 non-null  object \n",
      " 8   title                 45376 non-null  object \n",
      " 9   vote_average          45376 non-null  float64\n",
      " 10  collection_name       4488 non-null   object \n",
      " 11  company_names         45376 non-null  object \n",
      " 12  company_ids           45376 non-null  object \n",
      " 13  genre_names           45376 non-null  object \n",
      " 14  release_year          45376 non-null  object \n",
      " 15  return                45376 non-null  float64\n",
      "dtypes: float64(3), int32(2), object(11)\n",
      "memory usage: 5.5+ MB\n"
     ]
    }
   ],
   "source": [
    "df.info()"
   ]
  }
 ],
 "metadata": {
  "kernelspec": {
   "display_name": "Proyecto-1",
   "language": "python",
   "name": "python3"
  },
  "language_info": {
   "codemirror_mode": {
    "name": "ipython",
    "version": 3
   },
   "file_extension": ".py",
   "mimetype": "text/x-python",
   "name": "python",
   "nbconvert_exporter": "python",
   "pygments_lexer": "ipython3",
   "version": "3.11.3"
  },
  "orig_nbformat": 4
 },
 "nbformat": 4,
 "nbformat_minor": 2
}
